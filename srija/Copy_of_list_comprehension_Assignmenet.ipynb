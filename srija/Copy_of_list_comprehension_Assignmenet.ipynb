{
  "nbformat": 4,
  "nbformat_minor": 0,
  "metadata": {
    "colab": {
      "provenance": [],
      "include_colab_link": true
    },
    "kernelspec": {
      "name": "python3",
      "display_name": "Python 3"
    },
    "language_info": {
      "name": "python"
    }
  },
  "cells": [
    {
      "cell_type": "markdown",
      "metadata": {
        "id": "view-in-github",
        "colab_type": "text"
      },
      "source": [
        "<a href=\"https://colab.research.google.com/github/srija2771/Day-3-Assigmnent/blob/main/srija/Copy_of_list_comprehension_Assignmenet.ipynb\" target=\"_parent\"><img src=\"https://colab.research.google.com/assets/colab-badge.svg\" alt=\"Open In Colab\"/></a>"
      ]
    },
    {
      "cell_type": "markdown",
      "source": [],
      "metadata": {
        "id": "KZ91_NegViLz"
      }
    },
    {
      "cell_type": "markdown",
      "source": [
        "## problem 1\n",
        "Create a dictionary where the keys correspond to the area of a flat adn value for each is the price of the house for 10 flat in kompally"
      ],
      "metadata": {
        "id": "B1Fhdmi9V3LI"
      }
    },
    {
      "cell_type": "code",
      "source": [
        "# Dictionary of house area and house prices of 10 houses in\n",
        "HInt: area_price = {area:price}"
      ],
      "metadata": {
        "id": "zihWmw3NWXQX"
      },
      "execution_count": null,
      "outputs": []
    },
    {
      "cell_type": "markdown",
      "source": [
        "### Now broker predicts the price as can be written as : <b><code>predicted_price(area) = 0.06*area + 15</code></b>"
      ],
      "metadata": {
        "id": "JI2jaDf8Wp2D"
      }
    },
    {
      "cell_type": "markdown",
      "source": [
        "Using the concept of list comprehension,create a list of predicted flat price using the above formula\n"
      ],
      "metadata": {
        "id": "v_K_Z8dtW6-D"
      }
    },
    {
      "cell_type": "code",
      "source": [
        "# Create a list of house areas\n",
        "area_price={12:20,14:50,17:70}\n",
        "print(\"predicted flat price: \")\n",
        "a=[(0.06*area)+15 for area,price in area_price.items()]\n",
        "print(a)\n",
        "\n",
        "\n",
        "\n",
        "\n",
        "# Use list comprehension to store the predicted house prices in a list\n",
        "\n",
        "\n",
        "# Print the list of predicted flat prices\n"
      ],
      "metadata": {
        "id": "F732P6DHXVYH",
        "colab": {
          "base_uri": "https://localhost:8080/"
        },
        "outputId": "e77c7a7a-d08a-4589-98d7-199db9f4f9a0"
      },
      "execution_count": 15,
      "outputs": [
        {
          "output_type": "stream",
          "name": "stdout",
          "text": [
            "predicted flat price: \n",
            "[15.72, 15.84, 16.02]\n"
          ]
        }
      ]
    },
    {
      "cell_type": "markdown",
      "source": [
        "## Create another list which contains the squares of differences of each element of the two price lists : the actual prices and the predicted prices\n"
      ],
      "metadata": {
        "id": "-ZrRO78DXZq6"
      }
    },
    {
      "cell_type": "code",
      "source": [
        "b=[20,50,70]\n",
        "print(b)\n",
        "square_of_diff=[(x-y)**2 for x,y in zip(a,b)]\n",
        "print(square_of_diff)"
      ],
      "metadata": {
        "id": "dEpxZqK7XzeD",
        "colab": {
          "base_uri": "https://localhost:8080/"
        },
        "outputId": "c2ac9e04-116e-4d62-bac0-500fd3fa7e42"
      },
      "execution_count": 16,
      "outputs": [
        {
          "output_type": "stream",
          "name": "stdout",
          "text": [
            "[20, 50, 70]\n",
            "[18.318399999999993, 1166.9055999999998, 2913.8404000000005]\n"
          ]
        }
      ]
    },
    {
      "cell_type": "markdown",
      "source": [
        "## <u> Problem 2</u>\n",
        "\n",
        "## A sigmoid function is a mathematical function having a characteristic \"S\"-shaped curve or sigmoid curve. A common example of a sigmoid function is the logistic function shown in the first figure and defined by the formula:\n",
        "\n",
        "$$ h(x) =  \\frac{\\mathrm{1} }{\\mathrm{1} + e^{-x} }  $$\n",
        "\n",
        "\n",
        "## Range is defined as all the possible values which the function $h(x)$ can take. Domain is defined as all the possible values which $x$ can take. In this case, range of the function is between 0 to 1 and the domain of the function is all real numbers"
      ],
      "metadata": {
        "id": "PEC_OtXRXrCg"
      }
    },
    {
      "cell_type": "markdown",
      "source": [
        "### You are given a list of values of $x$. You need to use list comprehension to calculate the corresponding transformation according to the sigmoid function defined above"
      ],
      "metadata": {
        "id": "YZCTres_XsB0"
      }
    },
    {
      "cell_type": "code",
      "source": [
        "# Return a list of boolean values if the sigmoid_of_x is greater than or equal to 0 and less than or equal to 1\n",
        "sigmoid = lambda x: 1 / (1 + 2.71828 ** -x)\n",
        "x_values = [-2, -1, 0, 1, 2]\n",
        "sigmoid_values = [sigmoid(x) for x in x_values]\n",
        "boolean_values = [(0 <= sigmoid(x) <= 1) for x in x_values]\n",
        "greater_than_half = [sigmoid(x) for x in x_values if sigmoid(x) > 0.5]\n",
        "print(\"Sigmoid values:\", sigmoid_values)\n",
        "print(\"Boolean values:\", boolean_values)\n",
        "print(\"Values greater than 0.5:\", greater_than_half)\n",
        "\n",
        "\n",
        "# Create a list of those values which are greater than 0.5"
      ],
      "metadata": {
        "id": "TmYb4SluYC4S",
        "colab": {
          "base_uri": "https://localhost:8080/"
        },
        "outputId": "9152bbfa-87c2-496e-f6f6-d6310ca5bb66"
      },
      "execution_count": 12,
      "outputs": [
        {
          "output_type": "stream",
          "name": "stdout",
          "text": [
            "Sigmoid values: [0.11920306327063111, 0.26894155362156696, 0.5, 0.731058446378433, 0.880796936729369]\n",
            "Boolean values: [True, True, True, True, True]\n",
            "Values greater than 0.5: [0.731058446378433, 0.880796936729369]\n"
          ]
        }
      ]
    },
    {
      "cell_type": "markdown",
      "source": [
        "# <u> Problem 3</u>\n",
        "\n",
        "## You are given a sentence : <code>\"I have been walking and running and dancing and smiling and laughing all my life, yet it all seems pointless. So i stoped thinking and started doing\"</code>\n",
        "\n",
        "## You are required to extract all those words from this sentence in a list which ends with <code>ing</code>"
      ],
      "metadata": {
        "id": "j31JnVUtYNU-"
      }
    },
    {
      "cell_type": "code",
      "source": [
        "# Your sentence\n",
        "my_sentence = \"I have been walking and running and dancing and smiling and laughing all my life,yet it all seems pointless. So i stoped thinking and started doing\"\n",
        "a=my_sentence.split()\n",
        "a1=[word for word in a if 'ing' in word]\n",
        "print(a1)\n"
      ],
      "metadata": {
        "id": "8s6rFnH2YO1z",
        "colab": {
          "base_uri": "https://localhost:8080/"
        },
        "outputId": "55c5cce8-2f10-4f6c-dea8-001a438e7ac2"
      },
      "execution_count": 6,
      "outputs": [
        {
          "output_type": "stream",
          "name": "stdout",
          "text": [
            "['walking', 'running', 'dancing', 'smiling', 'laughing', 'thinking', 'doing']\n"
          ]
        }
      ]
    },
    {
      "cell_type": "markdown",
      "source": [
        "# <u> Problem 4</u>\n",
        "\n",
        "#### Natural Language Processing or NLP is one of the most promising fields in Machine Learning. Most of the times in NLP we deal with the textual data (a bunch of strings). Sometimes when we are processing the text, it is a common practice to get rid of some set of stop words from our original text. By default stop words are very common words used in English language such as and, or, punctuations etc.\n",
        "\n",
        "#### In this exercise, you are provided with a default set of stop words and you need to add some extra set of custom words and remove these words from the given sentence and obtain the sentence without the stop words"
      ],
      "metadata": {
        "id": "rYwInhGlYOyz"
      }
    },
    {
      "cell_type": "code",
      "source": [
        "# A sample sentence\n",
        "sample=\"The sun hung low in the sky, casting long shadows across the rolling hills. Birds chirped merrily as they flitted from tree to tree, their songs filling the air with joy. A gentle breeze rustled the leaves, carrying with it the sweet scent of wildflowers. In the distance, a river meandered lazily through the valley, its waters shimmering in the golden light. Along its banks, tall grasses swayed in the wind, whispering secrets to the passing clouds. The world seemed to pause in that moment, as if holding its breath in anticipation of something magical. And indeed, there was magic all around, woven into the very fabric of nature itself. Each blade of grass, each petal of a flower, seemed to dance with life, imbued with a sense of wonder and awe. It was a scene straight out of a fairy tale, where dreams and reality intertwined in a beautiful tapestry of existence.\"\n",
        "print(sample)\n",
        "# Print your sentence"
      ],
      "metadata": {
        "id": "b86yHqHEYOpp",
        "colab": {
          "base_uri": "https://localhost:8080/"
        },
        "outputId": "81d5271d-888f-4e95-9f6d-2f99dcda10b9"
      },
      "execution_count": 4,
      "outputs": [
        {
          "output_type": "stream",
          "name": "stdout",
          "text": [
            "The sun hung low in the sky, casting long shadows across the rolling hills. Birds chirped merrily as they flitted from tree to tree, their songs filling the air with joy. A gentle breeze rustled the leaves, carrying with it the sweet scent of wildflowers. In the distance, a river meandered lazily through the valley, its waters shimmering in the golden light. Along its banks, tall grasses swayed in the wind, whispering secrets to the passing clouds. The world seemed to pause in that moment, as if holding its breath in anticipation of something magical. And indeed, there was magic all around, woven into the very fabric of nature itself. Each blade of grass, each petal of a flower, seemed to dance with life, imbued with a sense of wonder and awe. It was a scene straight out of a fairy tale, where dreams and reality intertwined in a beautiful tapestry of existence.\n"
          ]
        }
      ]
    },
    {
      "cell_type": "code",
      "source": [
        "# Default set of stop words\n",
        "stop_words = {\"i\", \"me\", \"my\", \"myself\", \"we\", \"our\", \"ours\", \"ourselves\", \"you\", \"your\", \"yours\", \"yourself\",\n",
        "              \"yourselves\", \"he\", \"him\", \"his\", \"himself\", \"she\", \"her\", \"hers\", \"herself\", \"it\", \"its\", \"itself\",\n",
        "              \"they\", \"them\", \"their\", \"theirs\", \"themselves\", \"what\", \"which\", \"who\", \"whom\", \"this\", \"that\",\n",
        "              \"these\", \"those\", \"am\", \"is\", \"are\", \"was\", \"were\", \"be\", \"been\", \"being\", \"have\", \"has\", \"had\",\n",
        "              \"having\", \"do\", \"does\", \"did\", \"doing\", \"a\", \"an\", \"the\", \"and\", \"but\", \"if\", \"or\", \"because\",\n",
        "              \"as\", \"until\", \"while\", \"of\", \"at\", \"by\", \"for\", \"with\", \"about\", \"against\", \"between\", \"into\",\n",
        "              \"through\", \"during\", \"before\", \"after\", \"above\", \"below\", \"to\", \"from\", \"up\", \"down\", \"in\", \"out\",\n",
        "              \"on\", \"off\", \"over\", \"under\", \"again\", \"further\", \"then\", \"once\", \"here\", \"there\", \"when\", \"where\",\n",
        "              \"why\", \"how\", \"all\", \"any\", \"both\", \"each\", \"few\", \"more\", \"most\", \"other\", \"some\", \"such\", \"no\",\n",
        "              \"nor\", \"not\", \"only\", \"own\", \"same\", \"so\", \"than\", \"too\", \"very\", \"s\", \"t\", \"can\", \"will\", \"just\",\n",
        "              \"don\", \"should\", \"now\"}"
      ],
      "metadata": {
        "id": "RbyJscXWYh0z"
      },
      "execution_count": 6,
      "outputs": []
    },
    {
      "cell_type": "code",
      "source": [
        "\n",
        "custom_stop_words = [\"hello\",\"folks\",\"good\",\"morning\",\"half\",\"year\"]\n",
        "stop = stop_words.union(custom_stop_words)\n",
        "print(stop_words)\n",
        "# Update the set of stop words by adding the custom stop words\n",
        "\n"
      ],
      "metadata": {
        "id": "JCZ3mWDEYplT",
        "colab": {
          "base_uri": "https://localhost:8080/"
        },
        "outputId": "a7ea0289-bee5-4c87-adfa-b8729c04f91c"
      },
      "execution_count": 7,
      "outputs": [
        {
          "output_type": "stream",
          "name": "stdout",
          "text": [
            "{'have', 'had', 'below', 'will', 'to', 'in', 'most', 'no', 'yourselves', 'how', 'very', 'himself', 'you', 'these', 'each', 'it', 'up', 'there', 'herself', 'whom', 'before', 'after', 'over', 'itself', 'can', 'all', 's', 'having', 'this', 'and', 'own', 'because', 'your', 'on', 'down', 'more', 'why', 'don', 'do', 'through', 'so', 'now', 'a', 'when', 'being', 'does', 'yours', 'the', 't', 'than', 'while', 'he', 'we', 'nor', 'by', 'myself', 'at', 'during', 'not', 'is', 'if', 'themselves', 'above', 'both', 'what', 'then', 'against', 'did', 'doing', 'for', 'here', 'under', 'from', 'some', 'who', 'with', 'that', 'those', 'me', 'off', 'their', 'yourself', 'only', 'they', 'any', 'into', 'she', 'ourselves', 'too', 'ours', 'her', 'his', 'its', 'i', 'be', 'once', 'our', 'am', 'between', 'where', 'again', 'should', 'further', 'an', 'just', 'which', 'but', 'were', 'are', 'them', 'such', 'was', 'has', 'of', 'about', 'been', 'or', 'out', 'same', 'hers', 'my', 'theirs', 'other', 'as', 'until', 'few', 'him'}\n"
          ]
        }
      ]
    },
    {
      "cell_type": "code",
      "source": [
        "# Create the list of words in the given sentence.\n",
        "a = sample.split()\n"
      ],
      "metadata": {
        "id": "OG_iCUm9Yyx3"
      },
      "execution_count": 9,
      "outputs": []
    },
    {
      "cell_type": "code",
      "source": [
        "# Use list comprehension to remove the set of updated stop words from the list of words\n",
        "b = [word for word in a if word.lower() not in stop]\n"
      ],
      "metadata": {
        "id": "Kk665UtXY3UH"
      },
      "execution_count": 10,
      "outputs": []
    },
    {
      "cell_type": "code",
      "source": [
        "# Finally using the join() method, get the sentence without the stop words. Keep in mind that every word in the sentence will be separated by space\n",
        "\n",
        "new_sentence = ' '.join(b)\n",
        "# Print the modified sentence\n",
        "print(new_sentence)"
      ],
      "metadata": {
        "id": "RzO-jDZVY6wD",
        "colab": {
          "base_uri": "https://localhost:8080/"
        },
        "outputId": "25bb1e9d-82f9-4009-f805-585425a6abd8"
      },
      "execution_count": 11,
      "outputs": [
        {
          "output_type": "stream",
          "name": "stdout",
          "text": [
            "sun hung low sky, casting long shadows across rolling hills. Birds chirped merrily flitted tree tree, songs filling air joy. gentle breeze rustled leaves, carrying sweet scent wildflowers. distance, river meandered lazily valley, waters shimmering golden light. Along banks, tall grasses swayed wind, whispering secrets passing clouds. world seemed pause moment, holding breath anticipation something magical. indeed, magic around, woven fabric nature itself. blade grass, petal flower, seemed dance life, imbued sense wonder awe. scene straight fairy tale, dreams reality intertwined beautiful tapestry existence.\n"
          ]
        }
      ]
    }
  ]
}